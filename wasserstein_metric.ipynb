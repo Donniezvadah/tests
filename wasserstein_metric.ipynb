{
 "cells": [
  {
   "cell_type": "code",
   "execution_count": 7,
   "id": "40d8bc0c",
   "metadata": {
    "vscode": {
     "languageId": "sage"
    }
   },
   "outputs": [
    {
     "name": "stdout",
     "output_type": "stream",
     "text": [
      "\n",
      "Begin Wasserstein distance demo \n",
      "\n",
      "Kullback-Leibler distances: \n",
      "P to Q1 : 1.7918 \n",
      "P to Q2 : 1.7918 \n",
      "\n",
      "Wasserstein distances: \n",
      "P to Q1 : 1.0000 \n",
      "P to Q2 : 2.0000 \n",
      "\n",
      "End demo \n"
     ]
    }
   ],
   "source": [
    "# wasserstein_demo.py\n",
    "# Wasserstein distance from scratch\n",
    "\n",
    "import numpy as np\n",
    "\n",
    "def first_nonzero(vec):\n",
    "  dim = len(vec)\n",
    "  for i in range(dim):\n",
    "    if vec[i] > 0.0:\n",
    "      return i\n",
    "  return -1  # no empty cells found\n",
    "\n",
    "def move_dirt(dirt, di, holes, hi):\n",
    "  # move as much dirt at [di] as possible to h[hi]\n",
    "  if dirt[di] <= holes[hi]:   # use all dirt\n",
    "    flow = dirt[di]\n",
    "    dirt[di] = 0.0            # all dirt got moved\n",
    "    holes[hi] -= flow         # less to fill now\n",
    "  elif dirt[di] > holes[hi]:  # use just part of dirt\n",
    "    flow = holes[hi]          # fill remainder of hole\n",
    "    dirt[di] -= flow          # less dirt left\n",
    "    holes[hi] = 0.0           # hole is filled\n",
    "  dist = np.abs(di - hi)\n",
    "  return flow * dist          # work\n",
    "\n",
    "def my_wasserstein(p, q):\n",
    "  dirt = np.copy(p) \n",
    "  holes = np.copy(q)\n",
    "  tot_work = 0.0\n",
    "\n",
    "  while True:  # TODO: add sanity counter check\n",
    "    from_idx = first_nonzero(dirt)\n",
    "    to_idx = first_nonzero(holes)\n",
    "    if from_idx == -1 or to_idx == -1:\n",
    "      break\n",
    "    work = move_dirt(dirt, from_idx, holes, to_idx)\n",
    "    tot_work += work\n",
    "  return tot_work  \n",
    "\n",
    "def kullback_leibler(p, q):\n",
    "  n = len(p)\n",
    "  sum = 0.0\n",
    "  for i in range(n):\n",
    "    sum += p[i] * np.log(p[i] / q[i])\n",
    "  return sum\n",
    "\n",
    "def symmetric_kullback(p, q):\n",
    "  a = kullback_leibler(p, q)\n",
    "  b = kullback_leibler(q, p)\n",
    "  return a + b\n",
    "\n",
    "def main():\n",
    "  print(\"\\nBegin Wasserstein distance demo \")\n",
    "\n",
    "  P =  np.array([0.6, 0.1, 0.1, 0.1, 0.1])\n",
    "  Q1 = np.array([0.1, 0.1, 0.6, 0.1, 0.1])\n",
    "  Q2 = np.array([0.1, 0.1, 0.1, 0.1, 0.6])\n",
    "\n",
    "  kl_p_q1 = symmetric_kullback(P, Q1)\n",
    "  kl_p_q2 = symmetric_kullback(P, Q2)\n",
    "\n",
    "  wass_p_q1 = my_wasserstein(P, Q1)\n",
    "  wass_p_q2 = my_wasserstein(P, Q2)\n",
    "\n",
    "  print(\"\\nKullback-Leibler distances: \")\n",
    "  print(\"P to Q1 : %0.4f \" % kl_p_q1)\n",
    "  print(\"P to Q2 : %0.4f \" % kl_p_q2)  # should be greater\n",
    "\n",
    "  print(\"\\nWasserstein distances: \")\n",
    "  print(\"P to Q1 : %0.4f \" % wass_p_q1)\n",
    "  print(\"P to Q2 : %0.4f \" % wass_p_q2)  # should be greater\n",
    "\n",
    "  print(\"\\nEnd demo \")\n",
    "\n",
    "if __name__ == \"__main__\":\n",
    "  main()\n"
   ]
  },
  {
   "cell_type": "code",
   "execution_count": 6,
   "id": "f61dfaa4",
   "metadata": {
    "vscode": {
     "languageId": "sage"
    }
   },
   "outputs": [
    {
     "ename": "ModuleNotFoundError",
     "evalue": "No module named 'ot'",
     "output_type": "error",
     "traceback": [
      "\u001b[0;31m---------------------------------------------------------------------------\u001b[0m",
      "\u001b[0;31mModuleNotFoundError\u001b[0m                       Traceback (most recent call last)",
      "Cell \u001b[0;32mIn [6], line 10\u001b[0m\n\u001b[1;32m      7\u001b[0m \u001b[38;5;28;01mimport\u001b[39;00m \u001b[38;5;21;01mnumpy\u001b[39;00m \u001b[38;5;28;01mas\u001b[39;00m \u001b[38;5;21;01mnp\u001b[39;00m\n\u001b[1;32m      8\u001b[0m \u001b[38;5;28;01mimport\u001b[39;00m \u001b[38;5;21;01mmatplotlib\u001b[39;00m\u001b[38;5;21;01m.\u001b[39;00m\u001b[38;5;21;01mpyplot\u001b[39;00m \u001b[38;5;28;01mas\u001b[39;00m \u001b[38;5;21;01mpl\u001b[39;00m\n\u001b[0;32m---> 10\u001b[0m \u001b[38;5;28;01mimport\u001b[39;00m \u001b[38;5;21;01mot\u001b[39;00m\n\u001b[1;32m     11\u001b[0m \u001b[38;5;28;01mimport\u001b[39;00m \u001b[38;5;21;01mtorch\u001b[39;00m\n",
      "\u001b[0;31mModuleNotFoundError\u001b[0m: No module named 'ot'"
     ]
    }
   ],
   "source": [
    "# Author: Remi Flamary <remi.flamary@polytechnique.edu>\n",
    "#\n",
    "# License: MIT License\n",
    "\n",
    "# sphinx_gallery_thumbnail_number = 2\n",
    "\n",
    "import numpy as np\n",
    "import matplotlib.pyplot as pl\n",
    "\n",
    "import ot\n",
    "import torch\n"
   ]
  },
  {
   "cell_type": "code",
   "execution_count": 8,
   "id": "a562ab27",
   "metadata": {
    "vscode": {
     "languageId": "sage"
    }
   },
   "outputs": [
    {
     "ename": "NameError",
     "evalue": "name 'ot' is not defined",
     "output_type": "error",
     "traceback": [
      "\u001b[0;31m---------------------------------------------------------------------------\u001b[0m",
      "\u001b[0;31mNameError\u001b[0m                                 Traceback (most recent call last)",
      "Cell \u001b[0;32mIn [8], line 28\u001b[0m\n\u001b[1;32m     24\u001b[0m H[ns1:, Integer(\u001b[38;5;241m1\u001b[39m)] \u001b[38;5;241m=\u001b[39m Integer(\u001b[38;5;241m1\u001b[39m) \u001b[38;5;241m/\u001b[39m ns1\n\u001b[1;32m     25\u001b[0m \u001b[38;5;66;03m# each columns sums to 1 and has weights only for samples form the\u001b[39;00m\n\u001b[1;32m     26\u001b[0m \u001b[38;5;66;03m# corresponding source distribution\u001b[39;00m\n\u001b[0;32m---> 28\u001b[0m M \u001b[38;5;241m=\u001b[39m \u001b[43mot\u001b[49m\u001b[38;5;241m.\u001b[39mdist(xs, xt)\n",
      "\u001b[0;31mNameError\u001b[0m: name 'ot' is not defined"
     ]
    }
   ],
   "source": [
    "nt = 100\n",
    "nt1 = 10  #\n",
    "\n",
    "ns1 = 50\n",
    "ns = 2 * ns1\n",
    "\n",
    "rng = np.random.RandomState(2)\n",
    "\n",
    "xt = rng.randn(nt, 2) * 0.2\n",
    "xt[:nt1, 0] += 1\n",
    "xt[nt1:, 1] += 1\n",
    "\n",
    "\n",
    "xs1 = rng.randn(ns1, 2) * 0.2\n",
    "xs1[:, 0] += 1\n",
    "xs2 = rng.randn(ns1, 2) * 0.2\n",
    "xs2[:, 1] += 1\n",
    "\n",
    "xs = np.concatenate((xs1, xs2))\n",
    "\n",
    "# Sample reweighting matrix H\n",
    "H = np.zeros((ns, 2))\n",
    "H[:ns1, 0] = 1 / ns1\n",
    "H[ns1:, 1] = 1 / ns1\n",
    "# each columns sums to 1 and has weights only for samples form the\n",
    "# corresponding source distribution\n",
    "\n",
    "M = ot.dist(xs, xt)\n",
    "\n"
   ]
  },
  {
   "cell_type": "code",
   "execution_count": null,
   "id": "93837520",
   "metadata": {
    "vscode": {
     "languageId": "sage"
    }
   },
   "outputs": [
    {
     "data": {
      "text/plain": [
       "<matplotlib.legend.Legend at 0x7fa6ab2f6d10>"
      ]
     },
     "execution_count": 5,
     "metadata": {},
     "output_type": "execute_result"
    },
    {
     "data": {
      "image/png": "[encoded data removed]",
      "text/plain": [
       "<Figure size 640x480 with 1 Axes>"
      ]
     },
     "metadata": {},
     "output_type": "display_data"
    }
   ],
   "source": [
    "pl.figure(1)\n",
    "pl.scatter(xt[:, 0], xt[:, 1], label=\"Target $\\mu^t$\", alpha=0.5)\n",
    "pl.scatter(xs1[:, 0], xs1[:, 1], label=\"Source $\\mu^s_1$\", alpha=0.5)\n",
    "pl.scatter(xs2[:, 0], xs2[:, 1], label=\"Source $\\mu^s_2$\", alpha=0.5)\n",
    "pl.title(\"Sources and Target distributions\")\n",
    "pl.legend()\n"
   ]
  },
  {
   "cell_type": "code",
   "execution_count": null,
   "id": "990ac12a",
   "metadata": {
    "vscode": {
     "languageId": "sage"
    }
   },
   "outputs": [
    {
     "ename": "NameError",
     "evalue": "name 'torch' is not defined",
     "output_type": "error",
     "traceback": [
      "\u001b[0;31m---------------------------------------------------------------------------\u001b[0m",
      "\u001b[0;31mNameError\u001b[0m                                 Traceback (most recent call last)",
      "Cell \u001b[0;32mIn [6], line 2\u001b[0m\n\u001b[1;32m      1\u001b[0m \u001b[38;5;66;03m# convert numpy arrays to torch tensors\u001b[39;00m\n\u001b[0;32m----> 2\u001b[0m H2 \u001b[38;5;241m=\u001b[39m \u001b[43mtorch\u001b[49m\u001b[38;5;241m.\u001b[39mtensor(H)\n\u001b[1;32m      3\u001b[0m M2 \u001b[38;5;241m=\u001b[39m torch\u001b[38;5;241m.\u001b[39mtensor(M)\n\u001b[1;32m      5\u001b[0m \u001b[38;5;66;03m# weights for the source distributions\u001b[39;00m\n",
      "\u001b[0;31mNameError\u001b[0m: name 'torch' is not defined"
     ]
    }
   ],
   "source": [
    "# convert numpy arrays to torch tensors\n",
    "H2 = torch.tensor(H)\n",
    "M2 = torch.tensor(M)\n",
    "\n",
    "# weights for the source distributions\n",
    "w = torch.tensor(ot.unif(2), requires_grad=True)\n",
    "\n",
    "# uniform weights for target\n",
    "b = torch.tensor(ot.unif(nt))\n",
    "\n",
    "lr = 2e-3  # learning rate\n",
    "niter = 500  # number of iterations\n",
    "losses = []  # loss along the iterations\n",
    "\n",
    "# loss for the minimal Wasserstein estimator\n",
    "\n",
    "\n",
    "def get_loss(w):\n",
    "    a = torch.mv(H2, w)  # distribution reweighting\n",
    "    return ot.emd2(a, b, M2)  # squared Wasserstein 2\n",
    "\n",
    "\n",
    "for i in range(niter):\n",
    "    loss = get_loss(w)\n",
    "    losses.append(float(loss))\n",
    "\n",
    "    loss.backward()\n",
    "\n",
    "    with torch.no_grad():\n",
    "        w -= lr * w.grad  # gradient step\n",
    "        w[:] = ot.utils.proj_simplex(w)  # projection on the simplex\n",
    "\n",
    "    w.grad.zero_()\n"
   ]
  },
  {
   "cell_type": "code",
   "execution_count": null,
   "id": "6170304e",
   "metadata": {
    "vscode": {
     "languageId": "sage"
    }
   },
   "outputs": [
    {
     "ename": "NameError",
     "evalue": "name 'w' is not defined",
     "output_type": "error",
     "traceback": [
      "\u001b[0;31m---------------------------------------------------------------------------\u001b[0m",
      "\u001b[0;31mNameError\u001b[0m                                 Traceback (most recent call last)",
      "Cell \u001b[0;32mIn [7], line 1\u001b[0m\n\u001b[0;32m----> 1\u001b[0m we \u001b[38;5;241m=\u001b[39m \u001b[43mw\u001b[49m\u001b[38;5;241m.\u001b[39mdetach()\u001b[38;5;241m.\u001b[39mnumpy()\n\u001b[1;32m      2\u001b[0m \u001b[38;5;28mprint\u001b[39m(\u001b[38;5;124m\"\u001b[39m\u001b[38;5;124mEstimated mixture:\u001b[39m\u001b[38;5;124m\"\u001b[39m, we)\n\u001b[1;32m      4\u001b[0m pl\u001b[38;5;241m.\u001b[39mfigure(\u001b[38;5;241m2\u001b[39m)\n",
      "\u001b[0;31mNameError\u001b[0m: name 'w' is not defined"
     ]
    }
   ],
   "source": [
    "we = w.detach().numpy()\n",
    "print(\"Estimated mixture:\", we)\n",
    "\n",
    "pl.figure(2)\n",
    "pl.semilogy(losses)\n",
    "pl.grid()\n",
    "pl.title(\"Wasserstein distance\")\n",
    "pl.xlabel(\"Iterations\")\n"
   ]
  },
  {
   "cell_type": "code",
   "execution_count": null,
   "id": "6644d7c1",
   "metadata": {
    "vscode": {
     "languageId": "sage"
    }
   },
   "outputs": [],
   "source": [
    "pl.figure(3)\n",
    "\n",
    "# compute source weights\n",
    "ws = H.dot(we)\n",
    "\n",
    "pl.scatter(xt[:, 0], xt[:, 1], label=\"Target $\\mu^t$\", alpha=0.5)\n",
    "pl.scatter(\n",
    "    xs[:, 0],\n",
    "    xs[:, 1],\n",
    "    color=\"C3\",\n",
    "    s=ws * 20 * ns,\n",
    "    label=\"Weighted sources $\\sum_{k} w_k\\mu^s_k$\",\n",
    "    alpha=0.5,\n",
    ")\n",
    "pl.title(\"Target and reweighted source distributions\")\n",
    "pl.legend()\n"
   ]
  },
  {
   "cell_type": "markdown",
   "id": "9a541a0a",
   "metadata": {},
   "source": [
    "https://pythonot.github.io/auto_examples/sliced-wasserstein/plot_variance_ssw.html"
   ]
  },
  {
   "cell_type": "code",
   "execution_count": null,
   "id": "ef25ca85",
   "metadata": {
    "vscode": {
     "languageId": "sage"
    }
   },
   "outputs": [],
   "source": []
  }
 ],
 "metadata": {
  "kernelspec": {
   "display_name": "SageMath 9.5",
   "language": "sage",
   "name": "sagemath"
  },
  "language_info": {
   "codemirror_mode": {
    "name": "ipython",
    "version": 3
   },
   "file_extension": ".py",
   "mimetype": "text/x-python",
   "name": "python",
   "nbconvert_exporter": "python",
   "pygments_lexer": "ipython3",
   "version": "3.11.2"
  }
 },
 "nbformat": 4,
 "nbformat_minor": 5
}
